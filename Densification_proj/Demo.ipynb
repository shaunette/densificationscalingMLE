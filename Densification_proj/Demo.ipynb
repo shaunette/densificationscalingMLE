{
 "cells": [
  {
   "cell_type": "code",
   "execution_count": 2,
   "metadata": {},
   "outputs": [],
   "source": [
    "import pandas as pd\n",
    "import numpy as np\n",
    "import datetime\n",
    "import itertools\n",
    "from numba import njit\n",
    "import csv\n",
    "import pickle\n"
   ]
  },
  {
   "cell_type": "markdown",
   "metadata": {},
   "source": [
    "## User imports the datasets"
   ]
  },
  {
   "cell_type": "code",
   "execution_count": 3,
   "metadata": {},
   "outputs": [],
   "source": [
    "def txt2time(txt_time):\n",
    "\n",
    "    \"\"\"\n",
    "    Converts string to Timestamp\n",
    "    Input: Sequence of times (\"Y-m-d H:M:S\") in text\n",
    "    \"\"\"\n",
    "    timeseq = [datetime.datetime.strptime(s,\"%Y-%m-%d %H:%M:%S\") for s in txt_time]\n",
    "    return  timeseq"
   ]
  },
  {
   "cell_type": "code",
   "execution_count": 4,
   "metadata": {},
   "outputs": [],
   "source": [
    "#Hospital data: December 7, 2010\n",
    "Hospitaldata = pd.read_csv(\"/Volumes/G-DRIVE/codetest/Hospitaldata.csv\")\n",
    "Hospitaldata[\"id\"] = txt2time(Hospitaldata[\"id\"])\n",
    "Hospitalseq = Hospitaldata.values"
   ]
  },
  {
   "cell_type": "code",
   "execution_count": 5,
   "metadata": {},
   "outputs": [],
   "source": [
    "#Workplace data: June 27, 2015 PICKUP HERE\n",
    "Workplacedata = pd.read_csv(\"/Volumes/G-DRIVE/codetest/Workplacedata.csv\")\n",
    "Workplacedata[\"id\"] = txt2time(Workplacedata[\"id\"])\n",
    "Workplaceseq = Workplacedata.values"
   ]
  },
  {
   "cell_type": "code",
   "execution_count": 6,
   "metadata": {},
   "outputs": [],
   "source": [
    "#International Conference on Computational Science data: July 11, 2017\n",
    "IC17data = pd.read_csv(\"/Volumes/G-DRIVE/codetest/IC2S2data.csv\")\n",
    "IC17data[\"id\"] = txt2time(IC17data[\"id\"])\n",
    "IC17seq = IC17data.values"
   ]
  },
  {
   "cell_type": "code",
   "execution_count": 7,
   "metadata": {},
   "outputs": [],
   "source": [
    "#Winter School data: December 1, 2016\n",
    "WS16data = pd.read_csv(\"/Volumes/G-DRIVE/codetest/WS16data.csv\")\n",
    "WS16data[\"id\"] = txt2time(WS16data[\"id\"])\n",
    "WS16seq = WS16data.values"
   ]
  },
  {
   "cell_type": "markdown",
   "metadata": {},
   "source": [
    "#### Parameter combinations used to obatin the estimates for all, except Workplace"
   ]
  },
  {
   "cell_type": "code",
   "execution_count": 8,
   "metadata": {},
   "outputs": [],
   "source": [
    "#1 User imports the Dictionary of parameter combinations. Format - ID: (kappa, Np)\n",
    "parcombs = pd.read_csv('/Volumes/G-DRIVE/codetest/paramcombs.csv')\n",
    "parcombs_dict = parcombs.set_index(\"id\").T.to_dict(\"list\")\n",
    "parcombs2 = {key:tuple(values) for key, values in parcombs_dict.items()}"
   ]
  },
  {
   "cell_type": "code",
   "execution_count": 10,
   "metadata": {},
   "outputs": [],
   "source": [
    "#2 User imports the likelihood functions\n",
    "Likelihoodfns = {}\n",
    "for combs in parcombs2:\n",
    "    df = pd.read_pickle(\"/Volumes/G-DRIVE/Densifcation_Olap_data/likelihoodfns_prob1k025/Likefn\"+combs)\n",
    "    Likelihoodfns[combs] = df[[\"N\",\"M\",\"prob\"]].values\n",
    "\n"
   ]
  },
  {
   "cell_type": "markdown",
   "metadata": {},
   "source": [
    "#### Workplace data"
   ]
  },
  {
   "cell_type": "markdown",
   "metadata": {},
   "source": [
    "- Workplace dataset has smaller gridsize for some parameters"
   ]
  },
  {
   "cell_type": "code",
   "execution_count": 17,
   "metadata": {},
   "outputs": [],
   "source": [
    "#1 User imports the Dictionary of parameter combinations. Format - ID: (kappa, Np)\n",
    "parcombs_workplace = pd.read_csv('/Volumes/G-DRIVE/codetest/paramcombs_workplace.csv')\n",
    "parcombs_workplace_dict = parcombs_workplace.set_index(\"id\").T.to_dict(\"list\")\n",
    "parcombs_workplace2 = {key:tuple(values) for key, values in parcombs_workplace_dict.items()}"
   ]
  },
  {
   "cell_type": "code",
   "execution_count": 18,
   "metadata": {},
   "outputs": [],
   "source": [
    "#User imports the likelihood functions for the Workplace dataset\n",
    "Likelihoodfns_workplace = {}\n",
    "for combs in parcombs_workplace2:\n",
    "    df = pd.read_pickle(\"/Volumes/G-DRIVE/Densifcation_Olap_data/likelihoodfns_prob1k01_wkpl15/Likefn\"+combs)\n",
    "    Likelihoodfns_workplace[combs] = df[[\"N\",\"M\",\"prob\"]].values\n",
    "\n"
   ]
  },
  {
   "cell_type": "markdown",
   "metadata": {},
   "source": [
    "## Implement the maximum-likelihood estimation"
   ]
  },
  {
   "cell_type": "markdown",
   "metadata": {},
   "source": [
    "### Helper function (Nested in MLEstimation) selecting the maximum-likelihood function"
   ]
  },
  {
   "cell_type": "code",
   "execution_count": 21,
   "metadata": {},
   "outputs": [],
   "source": [
    "@njit()\n",
    "def prob_func(A,E,likelihood):\n",
    "    \n",
    "    \"\"\"\n",
    "        A - active banks (type:float)\n",
    "        E - number of undirected edges (type:float)\n",
    "        likelihood - likelihood function given a kappa and Np,\n",
    "        (type: B x 3 numpy array, where B is the number combinations of N,M generated from \n",
    "        kappa and Np)\n",
    "        Returns the probability of observing A and E given a kappa and Np.\n",
    "    \"\"\"\n",
    "    \n",
    "    probindex = np.where((likelihood[0:,0]==A) & (likelihood[0:,1]==E))\n",
    "    if probindex[0].size!=0:\n",
    "        probability = likelihood[probindex][0,-1]\n",
    "    \n",
    "    return probability"
   ]
  },
  {
   "cell_type": "markdown",
   "metadata": {},
   "source": [
    "### Helper function (Nested in MLEstimation) matching ids for mles with actual kappa and np values"
   ]
  },
  {
   "cell_type": "code",
   "execution_count": 13,
   "metadata": {},
   "outputs": [],
   "source": [
    "def estimators(estimates, params):\n",
    "    \"\"\"\n",
    "    Input: Sequences of IDs for (kappa, Np) combinations which have been\n",
    "    identified as estimators by the method.\n",
    "    \n",
    "    Output: DataFrame of estimates kappa_hat and Np_hat given a time window t\n",
    "    \n",
    "    The function matches the ids of the parameter combination with the ML\n",
    "    estimators (kappa_hat and Np_hat).\n",
    "    \"\"\"\n",
    "    kappa_seq = []\n",
    "    np_seq = []\n",
    "    for combs in estimates[\"params\"]:\n",
    "        kappa,np = params[combs]\n",
    "        kappa_seq.append(kappa)\n",
    "        np_seq.append(np)\n",
    "    return kappa_seq,np_seq\n",
    "    "
   ]
  },
  {
   "cell_type": "markdown",
   "metadata": {},
   "source": [
    "## Maximum-likelihood estimation function"
   ]
  },
  {
   "cell_type": "code",
   "execution_count": 14,
   "metadata": {},
   "outputs": [],
   "source": [
    "\n",
    "def MLEstimation(NMseq,likelihood_funcs,params):\n",
    "    \"\"\"\n",
    "    Input.\n",
    "    \n",
    "    NMseq: Sequence of triplets consisting of time (t), total active nodes (N) and total edges (M).\n",
    "    likelihood_funcs: Sequence of joint prob. dists. Dict type i.e., parameter combination id: joint prob dist\n",
    "    params: Sequence of parameter combinations. Dict type i.e., parameter id: (kappa, Np)\n",
    "    \n",
    "    Output. \n",
    "    estimates: Estimates of overall activity and population size. Type: (pandas.DataFrame)\n",
    "    \"\"\"\n",
    "    knp_ests = []\n",
    "    timeseq = []\n",
    "    for elem in NMseq:\n",
    "        t,N,M = elem\n",
    "        prob_NM = []\n",
    "        combid = []\n",
    "        for fid,LF in likelihood_funcs.items():\n",
    "            prob_NM.append(prob_func(N,M,LF))\n",
    "            combid.append(fid)\n",
    "        estparam_index = np.argmax(np.asarray(prob_NM))\n",
    "        estparams_id = combid[estparam_index]\n",
    "        knp_ests.append( estparams_id)\n",
    "        timeseq.append(t)\n",
    "        MLEresults = dict(zip(timeseq,knp_ests))\n",
    "    #\n",
    "    estimates = pd.DataFrame.from_dict(MLEresults,orient = \"index\")\n",
    "    estimates.reset_index(drop = False, inplace = True)\n",
    "    estimates.rename(columns = {\"index\":\"t\",0:\"params\"}, inplace = True)\n",
    "    kappavalues, npvalues = estimators(estimates,params)\n",
    "    estimates[\"kappa\"] = kappavalues\n",
    "    estimates[\"np\"] = npvalues\n",
    "    return estimates"
   ]
  },
  {
   "cell_type": "markdown",
   "metadata": {},
   "source": [
    "## Result: Estimated activity and population size for the datasets"
   ]
  },
  {
   "cell_type": "code",
   "execution_count": 26,
   "metadata": {
    "scrolled": true
   },
   "outputs": [],
   "source": [
    "Hospitaldailyestimates = MLEstimation(Hospitalseq,Likelihoodfns,parcombs2)\n",
    "IC17dailyestimates = MLEstimation(IC17seq,Likelihoodfns,parcombs2)\n",
    "WSdailyestimates = MLEstimation(WS16seq,Likelihoodfns,parcombs2)"
   ]
  },
  {
   "cell_type": "code",
   "execution_count": 27,
   "metadata": {},
   "outputs": [],
   "source": [
    "Workplacedailyestimates = MLEstimation(Workplaceseq,Likelihoodfns_workplace,parcombs_workplace2)"
   ]
  },
  {
   "cell_type": "code",
   "execution_count": 38,
   "metadata": {
    "scrolled": true
   },
   "outputs": [
    {
     "data": {
      "text/html": [
       "<div>\n",
       "<style scoped>\n",
       "    .dataframe tbody tr th:only-of-type {\n",
       "        vertical-align: middle;\n",
       "    }\n",
       "\n",
       "    .dataframe tbody tr th {\n",
       "        vertical-align: top;\n",
       "    }\n",
       "\n",
       "    .dataframe thead th {\n",
       "        text-align: right;\n",
       "    }\n",
       "</style>\n",
       "<table border=\"1\" class=\"dataframe\">\n",
       "  <thead>\n",
       "    <tr style=\"text-align: right;\">\n",
       "      <th></th>\n",
       "      <th>t</th>\n",
       "      <th>params</th>\n",
       "      <th>kappa</th>\n",
       "      <th>np</th>\n",
       "    </tr>\n",
       "  </thead>\n",
       "  <tbody>\n",
       "    <tr>\n",
       "      <td>0</td>\n",
       "      <td>2010-12-07 00:08:00</td>\n",
       "      <td>p36182</td>\n",
       "      <td>3.95</td>\n",
       "      <td>2.0</td>\n",
       "    </tr>\n",
       "    <tr>\n",
       "      <td>1</td>\n",
       "      <td>2010-12-07 00:13:00</td>\n",
       "      <td>p0</td>\n",
       "      <td>0.00</td>\n",
       "      <td>2.0</td>\n",
       "    </tr>\n",
       "    <tr>\n",
       "      <td>2</td>\n",
       "      <td>2010-12-07 00:18:00</td>\n",
       "      <td>p0</td>\n",
       "      <td>0.00</td>\n",
       "      <td>2.0</td>\n",
       "    </tr>\n",
       "    <tr>\n",
       "      <td>3</td>\n",
       "      <td>2010-12-07 00:23:00</td>\n",
       "      <td>p0</td>\n",
       "      <td>0.00</td>\n",
       "      <td>2.0</td>\n",
       "    </tr>\n",
       "    <tr>\n",
       "      <td>4</td>\n",
       "      <td>2010-12-07 00:28:00</td>\n",
       "      <td>p36182</td>\n",
       "      <td>3.95</td>\n",
       "      <td>2.0</td>\n",
       "    </tr>\n",
       "  </tbody>\n",
       "</table>\n",
       "</div>"
      ],
      "text/plain": [
       "                    t  params  kappa   np\n",
       "0 2010-12-07 00:08:00  p36182   3.95  2.0\n",
       "1 2010-12-07 00:13:00      p0   0.00  2.0\n",
       "2 2010-12-07 00:18:00      p0   0.00  2.0\n",
       "3 2010-12-07 00:23:00      p0   0.00  2.0\n",
       "4 2010-12-07 00:28:00  p36182   3.95  2.0"
      ]
     },
     "execution_count": 38,
     "metadata": {},
     "output_type": "execute_result"
    }
   ],
   "source": [
    "Hospitaldailyestimates.head()"
   ]
  },
  {
   "cell_type": "code",
   "execution_count": 64,
   "metadata": {},
   "outputs": [
    {
     "data": {
      "text/html": [
       "<div>\n",
       "<style scoped>\n",
       "    .dataframe tbody tr th:only-of-type {\n",
       "        vertical-align: middle;\n",
       "    }\n",
       "\n",
       "    .dataframe tbody tr th {\n",
       "        vertical-align: top;\n",
       "    }\n",
       "\n",
       "    .dataframe thead th {\n",
       "        text-align: right;\n",
       "    }\n",
       "</style>\n",
       "<table border=\"1\" class=\"dataframe\">\n",
       "  <thead>\n",
       "    <tr style=\"text-align: right;\">\n",
       "      <th></th>\n",
       "      <th>t</th>\n",
       "      <th>params</th>\n",
       "      <th>kappa</th>\n",
       "      <th>np</th>\n",
       "    </tr>\n",
       "  </thead>\n",
       "  <tbody>\n",
       "    <tr>\n",
       "      <td>0</td>\n",
       "      <td>2015-06-27 08:00:20</td>\n",
       "      <td>p9685</td>\n",
       "      <td>0.75</td>\n",
       "      <td>12.0</td>\n",
       "    </tr>\n",
       "    <tr>\n",
       "      <td>1</td>\n",
       "      <td>2015-06-27 08:05:20</td>\n",
       "      <td>p9685</td>\n",
       "      <td>0.75</td>\n",
       "      <td>12.0</td>\n",
       "    </tr>\n",
       "    <tr>\n",
       "      <td>2</td>\n",
       "      <td>2015-06-27 08:10:20</td>\n",
       "      <td>p9685</td>\n",
       "      <td>0.75</td>\n",
       "      <td>12.0</td>\n",
       "    </tr>\n",
       "    <tr>\n",
       "      <td>3</td>\n",
       "      <td>2015-06-27 08:15:20</td>\n",
       "      <td>p9685</td>\n",
       "      <td>0.75</td>\n",
       "      <td>12.0</td>\n",
       "    </tr>\n",
       "    <tr>\n",
       "      <td>4</td>\n",
       "      <td>2015-06-27 08:20:20</td>\n",
       "      <td>p9685</td>\n",
       "      <td>0.75</td>\n",
       "      <td>12.0</td>\n",
       "    </tr>\n",
       "  </tbody>\n",
       "</table>\n",
       "</div>"
      ],
      "text/plain": [
       "                    t params  kappa    np\n",
       "0 2015-06-27 08:00:20  p9685   0.75  12.0\n",
       "1 2015-06-27 08:05:20  p9685   0.75  12.0\n",
       "2 2015-06-27 08:10:20  p9685   0.75  12.0\n",
       "3 2015-06-27 08:15:20  p9685   0.75  12.0\n",
       "4 2015-06-27 08:20:20  p9685   0.75  12.0"
      ]
     },
     "execution_count": 64,
     "metadata": {},
     "output_type": "execute_result"
    }
   ],
   "source": [
    "Workplacedailyestimates.head()"
   ]
  },
  {
   "cell_type": "code",
   "execution_count": 30,
   "metadata": {},
   "outputs": [
    {
     "data": {
      "text/html": [
       "<div>\n",
       "<style scoped>\n",
       "    .dataframe tbody tr th:only-of-type {\n",
       "        vertical-align: middle;\n",
       "    }\n",
       "\n",
       "    .dataframe tbody tr th {\n",
       "        vertical-align: top;\n",
       "    }\n",
       "\n",
       "    .dataframe thead th {\n",
       "        text-align: right;\n",
       "    }\n",
       "</style>\n",
       "<table border=\"1\" class=\"dataframe\">\n",
       "  <thead>\n",
       "    <tr style=\"text-align: right;\">\n",
       "      <th></th>\n",
       "      <th>t</th>\n",
       "      <th>params</th>\n",
       "      <th>kappa</th>\n",
       "      <th>np</th>\n",
       "    </tr>\n",
       "  </thead>\n",
       "  <tbody>\n",
       "    <tr>\n",
       "      <td>0</td>\n",
       "      <td>2017-07-11 08:00:40</td>\n",
       "      <td>p36182</td>\n",
       "      <td>3.950</td>\n",
       "      <td>2.0</td>\n",
       "    </tr>\n",
       "    <tr>\n",
       "      <td>1</td>\n",
       "      <td>2017-07-11 08:05:40</td>\n",
       "      <td>p36415</td>\n",
       "      <td>3.975</td>\n",
       "      <td>6.0</td>\n",
       "    </tr>\n",
       "    <tr>\n",
       "      <td>2</td>\n",
       "      <td>2017-07-11 08:10:40</td>\n",
       "      <td>p35271</td>\n",
       "      <td>3.850</td>\n",
       "      <td>7.0</td>\n",
       "    </tr>\n",
       "    <tr>\n",
       "      <td>3</td>\n",
       "      <td>2017-07-11 08:15:40</td>\n",
       "      <td>p36644</td>\n",
       "      <td>4.000</td>\n",
       "      <td>6.0</td>\n",
       "    </tr>\n",
       "    <tr>\n",
       "      <td>4</td>\n",
       "      <td>2017-07-11 08:20:40</td>\n",
       "      <td>p28630</td>\n",
       "      <td>3.125</td>\n",
       "      <td>7.0</td>\n",
       "    </tr>\n",
       "  </tbody>\n",
       "</table>\n",
       "</div>"
      ],
      "text/plain": [
       "                    t  params  kappa   np\n",
       "0 2017-07-11 08:00:40  p36182  3.950  2.0\n",
       "1 2017-07-11 08:05:40  p36415  3.975  6.0\n",
       "2 2017-07-11 08:10:40  p35271  3.850  7.0\n",
       "3 2017-07-11 08:15:40  p36644  4.000  6.0\n",
       "4 2017-07-11 08:20:40  p28630  3.125  7.0"
      ]
     },
     "execution_count": 30,
     "metadata": {},
     "output_type": "execute_result"
    }
   ],
   "source": [
    "IC17seqdailyestimates.head()"
   ]
  },
  {
   "cell_type": "code",
   "execution_count": 31,
   "metadata": {},
   "outputs": [
    {
     "data": {
      "text/html": [
       "<div>\n",
       "<style scoped>\n",
       "    .dataframe tbody tr th:only-of-type {\n",
       "        vertical-align: middle;\n",
       "    }\n",
       "\n",
       "    .dataframe tbody tr th {\n",
       "        vertical-align: top;\n",
       "    }\n",
       "\n",
       "    .dataframe thead th {\n",
       "        text-align: right;\n",
       "    }\n",
       "</style>\n",
       "<table border=\"1\" class=\"dataframe\">\n",
       "  <thead>\n",
       "    <tr style=\"text-align: right;\">\n",
       "      <th></th>\n",
       "      <th>t</th>\n",
       "      <th>params</th>\n",
       "      <th>kappa</th>\n",
       "      <th>np</th>\n",
       "    </tr>\n",
       "  </thead>\n",
       "  <tbody>\n",
       "    <tr>\n",
       "      <td>0</td>\n",
       "      <td>2016-12-01 07:49:40</td>\n",
       "      <td>p28630</td>\n",
       "      <td>3.125</td>\n",
       "      <td>7.0</td>\n",
       "    </tr>\n",
       "    <tr>\n",
       "      <td>1</td>\n",
       "      <td>2016-12-01 07:54:40</td>\n",
       "      <td>p35958</td>\n",
       "      <td>3.925</td>\n",
       "      <td>7.0</td>\n",
       "    </tr>\n",
       "    <tr>\n",
       "      <td>2</td>\n",
       "      <td>2016-12-01 07:59:40</td>\n",
       "      <td>p35958</td>\n",
       "      <td>3.925</td>\n",
       "      <td>7.0</td>\n",
       "    </tr>\n",
       "    <tr>\n",
       "      <td>3</td>\n",
       "      <td>2016-12-01 08:04:40</td>\n",
       "      <td>p36418</td>\n",
       "      <td>3.975</td>\n",
       "      <td>9.0</td>\n",
       "    </tr>\n",
       "    <tr>\n",
       "      <td>4</td>\n",
       "      <td>2016-12-01 08:09:40</td>\n",
       "      <td>p36189</td>\n",
       "      <td>3.950</td>\n",
       "      <td>9.0</td>\n",
       "    </tr>\n",
       "  </tbody>\n",
       "</table>\n",
       "</div>"
      ],
      "text/plain": [
       "                    t  params  kappa   np\n",
       "0 2016-12-01 07:49:40  p28630  3.125  7.0\n",
       "1 2016-12-01 07:54:40  p35958  3.925  7.0\n",
       "2 2016-12-01 07:59:40  p35958  3.925  7.0\n",
       "3 2016-12-01 08:04:40  p36418  3.975  9.0\n",
       "4 2016-12-01 08:09:40  p36189  3.950  9.0"
      ]
     },
     "execution_count": 31,
     "metadata": {},
     "output_type": "execute_result"
    }
   ],
   "source": [
    "WSdailyestimates.head()"
   ]
  },
  {
   "cell_type": "markdown",
   "metadata": {},
   "source": [
    "## Plots:"
   ]
  },
  {
   "cell_type": "code",
   "execution_count": 24,
   "metadata": {},
   "outputs": [],
   "source": [
    "import matplotlib.pyplot as plt\n",
    "import matplotlib.dates as mdates\n",
    "from matplotlib.ticker import (MultipleLocator, FormatStrFormatter,\n",
    "                               AutoMinorLocator)"
   ]
  },
  {
   "cell_type": "markdown",
   "metadata": {},
   "source": [
    "### Estimated kappa"
   ]
  },
  {
   "cell_type": "code",
   "execution_count": 67,
   "metadata": {},
   "outputs": [
    {
     "data": {
      "image/png": "[encoded data removed]",
      "text/plain": [
       "<Figure size 720x360 with 4 Axes>"
      ]
     },
     "metadata": {
      "needs_background": "light"
     },
     "output_type": "display_data"
    }
   ],
   "source": [
    "fig,((ax1,ax2),(ax3,ax4)) = plt.subplots(2,2,figsize = (10,5))\n",
    "ax2.set_ylim(-0,0.41)\n",
    "ax2.set_yticks(np.arange(0,0.5,0.1))\n",
    "ax3.set_ylim(0,1)\n",
    "ax3.set_yticks(np.arange(0,1.01,0.2))\n",
    "ax4.set_ylim(0,1.2)\n",
    "ax4.set_yticks(np.arange(0,1.5,0.3))\n",
    "\n",
    "\n",
    "ax1.set_xlim(pd.Timestamp('2010-12-7 07:00:00'), pd.Timestamp('2010-12-7 20:46:50'))\n",
    "ax2.set_xlim(pd.Timestamp('2015-06-27 8:30:00'), pd.Timestamp('2015-06-27 18:00:10'))\n",
    "ax3.set_xlim(pd.Timestamp('2017-07-11 9:00:00'), pd.Timestamp('2017-07-11 18:01:00'))\n",
    "ax4.set_xlim(pd.Timestamp('2016-12-01 09:00:00'), pd.Timestamp('2016-12-01 18:01:00'))\n",
    "\n",
    "#plot estimates\n",
    "ax1.plot(Hospitaldailyestimates[\"t\"],Hospitaldailyestimates[\"kappa\"],\"k-\")\n",
    "ax2.plot(Workplacedailyestimates[\"t\"],Workplacedailyestimates[\"kappa\"],\"k-\")\n",
    "ax3.plot(IC17dailyestimates[\"t\"],IC17dailyestimates[\"kappa\"],\"k-\")\n",
    "ax4.plot(WSdailyestimates[\"t\"],WSdailyestimates[\"kappa\"],\"k-\")\n",
    "\n",
    "hourlocator1 = mdates.HourLocator(byhour=range(7,21,1)[1::3])\n",
    "hourlocator2 = mdates.HourLocator(byhour=range(9,19,1)[::2])\n",
    "hourlocator3 = mdates.HourLocator(byhour=range(9,21,1)[::2])\n",
    "hourlocator4 = mdates.HourLocator(byhour=range(9,21,1)[::2])\n",
    "\n",
    "majorFmt1 = mdates.DateFormatter('%H:%M')\n",
    "ax1.xaxis.set_major_locator(hourlocator1)\n",
    "ax1.xaxis.set_major_formatter(majorFmt1)\n",
    "ax1.xaxis.set_minor_locator(AutoMinorLocator(2))\n",
    "\n",
    "majorFmt2 = mdates.DateFormatter('%H:%M')\n",
    "ax2.xaxis.set_major_locator(hourlocator2)\n",
    "ax2.xaxis.set_major_formatter(majorFmt2)\n",
    "ax2.xaxis.set_minor_locator(AutoMinorLocator(2))\n",
    "\n",
    "majorFmt3 = mdates.DateFormatter('%H:%M')\n",
    "ax3.xaxis.set_major_locator(hourlocator3)\n",
    "ax3.xaxis.set_major_formatter(majorFmt3)\n",
    "ax3.xaxis.set_minor_locator(AutoMinorLocator(2))\n",
    "\n",
    "majorFmt4 = mdates.DateFormatter('%H:%M')\n",
    "ax4.xaxis.set_major_locator(hourlocator4)\n",
    "ax4.xaxis.set_major_formatter(majorFmt4)\n",
    "ax4.xaxis.set_minor_locator(AutoMinorLocator(2))\n",
    "\n",
    "\n",
    "ax1.spines['right'].set_visible(False)\n",
    "ax1.spines['top'].set_visible(False)\n",
    "\n",
    "ax2.spines['right'].set_visible(False)\n",
    "ax2.spines['top'].set_visible(False)\n",
    "\n",
    "ax3.spines['right'].set_visible(False)\n",
    "ax3.spines['top'].set_visible(False)\n",
    "\n",
    "ax4.spines['right'].set_visible(False)\n",
    "ax4.spines['top'].set_visible(False)"
   ]
  },
  {
   "cell_type": "markdown",
   "metadata": {},
   "source": [
    "### Estimated population size"
   ]
  },
  {
   "cell_type": "code",
   "execution_count": 68,
   "metadata": {},
   "outputs": [
    {
     "data": {
      "image/png": "[encoded data removed]",
      "text/plain": [
       "<Figure size 720x360 with 4 Axes>"
      ]
     },
     "metadata": {
      "needs_background": "light"
     },
     "output_type": "display_data"
    }
   ],
   "source": [
    "fig,((ax1,ax2),(ax3,ax4)) = plt.subplots(2,2,figsize = (10,5))\n",
    "ax1.set_ylim(-0,40)\n",
    "ax1.set_yticks(np.arange(0,50,10))\n",
    "ax2.set_ylim(0,150)\n",
    "ax2.set_yticks(np.arange(0,180,30))\n",
    "\n",
    "ax3.set_ylim(0,250)\n",
    "ax3.set_yticks(np.arange(0,300,50))\n",
    "ax4.set_ylim(0,200)\n",
    "ax4.set_yticks(np.arange(0,250,50))\n",
    "\n",
    "\n",
    "ax1.set_xlim(pd.Timestamp('2010-12-7 07:00:00'), pd.Timestamp('2010-12-7 20:46:50'))\n",
    "ax2.set_xlim(pd.Timestamp('2015-06-27 8:30:00'), pd.Timestamp('2015-06-27 18:00:10'))\n",
    "ax3.set_xlim(pd.Timestamp('2017-07-11 9:00:00'), pd.Timestamp('2017-07-11 18:01:00'))\n",
    "ax4.set_xlim(pd.Timestamp('2016-12-01 09:00:00'), pd.Timestamp('2016-12-01 18:01:00'))\n",
    "\n",
    "#plot estimates\n",
    "ax1.plot(Hospitaldailyestimates[\"t\"],Hospitaldailyestimates[\"np\"],\"k-\")\n",
    "ax2.plot(Workplacedailyestimates[\"t\"],Workplacedailyestimates[\"np\"],\"k-\")\n",
    "ax3.plot(IC17dailyestimates[\"t\"],IC17dailyestimates[\"np\"],\"k-\")\n",
    "ax4.plot(WSdailyestimates[\"t\"],WSdailyestimates[\"np\"],\"k-\")\n",
    "\n",
    "hourlocator1 = mdates.HourLocator(byhour=range(7,21,1)[1::3])\n",
    "hourlocator2 = mdates.HourLocator(byhour=range(9,19,1)[::2])\n",
    "hourlocator3 = mdates.HourLocator(byhour=range(9,21,1)[::2])\n",
    "hourlocator4 = mdates.HourLocator(byhour=range(9,21,1)[::2])\n",
    "\n",
    "majorFmt1 = mdates.DateFormatter('%H:%M')\n",
    "ax1.xaxis.set_major_locator(hourlocator1)\n",
    "ax1.xaxis.set_major_formatter(majorFmt1)\n",
    "ax1.xaxis.set_minor_locator(AutoMinorLocator(2))\n",
    "\n",
    "majorFmt2 = mdates.DateFormatter('%H:%M')\n",
    "ax2.xaxis.set_major_locator(hourlocator2)\n",
    "ax2.xaxis.set_major_formatter(majorFmt2)\n",
    "ax2.xaxis.set_minor_locator(AutoMinorLocator(2))\n",
    "\n",
    "majorFmt3 = mdates.DateFormatter('%H:%M')\n",
    "ax3.xaxis.set_major_locator(hourlocator3)\n",
    "ax3.xaxis.set_major_formatter(majorFmt3)\n",
    "ax3.xaxis.set_minor_locator(AutoMinorLocator(2))\n",
    "\n",
    "majorFmt4 = mdates.DateFormatter('%H:%M')\n",
    "ax4.xaxis.set_major_locator(hourlocator4)\n",
    "ax4.xaxis.set_major_formatter(majorFmt4)\n",
    "ax4.xaxis.set_minor_locator(AutoMinorLocator(2))\n",
    "\n",
    "\n",
    "ax1.spines['right'].set_visible(False)\n",
    "ax1.spines['top'].set_visible(False)\n",
    "\n",
    "ax2.spines['right'].set_visible(False)\n",
    "ax2.spines['top'].set_visible(False)\n",
    "\n",
    "ax3.spines['right'].set_visible(False)\n",
    "ax3.spines['top'].set_visible(False)\n",
    "\n",
    "ax4.spines['right'].set_visible(False)\n",
    "ax4.spines['top'].set_visible(False)"
   ]
  },
  {
   "cell_type": "code",
   "execution_count": null,
   "metadata": {},
   "outputs": [],
   "source": []
  }
 ],
 "metadata": {
  "kernelspec": {
   "display_name": "Python 3",
   "language": "python",
   "name": "python3"
  },
  "language_info": {
   "codemirror_mode": {
    "name": "ipython",
    "version": 3
   },
   "file_extension": ".py",
   "mimetype": "text/x-python",
   "name": "python",
   "nbconvert_exporter": "python",
   "pygments_lexer": "ipython3",
   "version": "3.7.4"
  }
 },
 "nbformat": 4,
 "nbformat_minor": 2
}
