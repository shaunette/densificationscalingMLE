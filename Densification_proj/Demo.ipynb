{
 "cells": [
  {
   "cell_type": "code",
   "execution_count": 1,
   "metadata": {},
   "outputs": [],
   "source": [
    "import pandas as pd\n",
    "import numpy as np\n",
    "import datetime\n",
    "import itertools\n",
    "from numba import njit\n",
    "import csv\n",
    "import pickle\n",
    "import matplotlib.pyplot as plt"
   ]
  },
  {
   "cell_type": "markdown",
   "metadata": {},
   "source": [
    "## Location for downloaded data files other input files:"
   ]
  },
  {
   "cell_type": "code",
   "execution_count": 2,
   "metadata": {},
   "outputs": [],
   "source": [
    "#CHANGE TO YOUR DIRECTORY_NAME:\n",
    "HOSPITAL_LOC = \"/DIRECTORY_NAME/Densification_proj/Dataset/Hospitaldataset.csv\"\n",
    "IC2S2_LOC = \"/DIRECTORY_NAME/Densification_proj/Dataset/IC2S2dataset.csv\"\n",
    "WS16_LOC = \"/DIRECTORY_NAME/Densification_proj/Dataset/WS16dataset.csv\"\n",
    "\n",
    "PARCOMBS_LOC = \"/DIRECTORY_NAME/Densification_proj/parameter_combinations/paramcombs.csv\"\n",
    "WORKPLACE_PARCOMBS_LOC = \"/DIRECTORY_NAME/Densification_proj/parameter_combinations/paramcombs_workplace.csv\"\n",
    "\n",
    "LKFNS_LOC = \"/DIRECTORY_NAME/Densification_proj/likelihoodfns/Likefn\"\n",
    "WORKPLACE_LKFNS_LOC = \"/DIRECTORY_NAME/Densification_proj/likelihoodfns_workplace/Likefn\""
   ]
  },
  {
   "cell_type": "markdown",
   "metadata": {},
   "source": [
    "## User imports the datasets"
   ]
  },
  {
   "cell_type": "code",
   "execution_count": 39,
   "metadata": {},
   "outputs": [],
   "source": [
    "#Hospital data: December 7, 2010\n",
    "Hospitaldata = pd.read_csv(HOSPITAL_LOC)\n",
    "\n",
    "Hospitalseq = Hospitaldata.values"
   ]
  },
  {
   "cell_type": "code",
   "execution_count": 87,
   "metadata": {},
   "outputs": [
    {
     "data": {
      "text/html": [
       "<div>\n",
       "<style scoped>\n",
       "    .dataframe tbody tr th:only-of-type {\n",
       "        vertical-align: middle;\n",
       "    }\n",
       "\n",
       "    .dataframe tbody tr th {\n",
       "        vertical-align: top;\n",
       "    }\n",
       "\n",
       "    .dataframe thead th {\n",
       "        text-align: right;\n",
       "    }\n",
       "</style>\n",
       "<table border=\"1\" class=\"dataframe\">\n",
       "  <thead>\n",
       "    <tr style=\"text-align: right;\">\n",
       "      <th></th>\n",
       "      <th>N</th>\n",
       "      <th>M</th>\n",
       "    </tr>\n",
       "  </thead>\n",
       "  <tbody>\n",
       "    <tr>\n",
       "      <td>0</td>\n",
       "      <td>6</td>\n",
       "      <td>4</td>\n",
       "    </tr>\n",
       "    <tr>\n",
       "      <td>1</td>\n",
       "      <td>8</td>\n",
       "      <td>8</td>\n",
       "    </tr>\n",
       "    <tr>\n",
       "      <td>2</td>\n",
       "      <td>10</td>\n",
       "      <td>15</td>\n",
       "    </tr>\n",
       "    <tr>\n",
       "      <td>3</td>\n",
       "      <td>14</td>\n",
       "      <td>17</td>\n",
       "    </tr>\n",
       "    <tr>\n",
       "      <td>4</td>\n",
       "      <td>17</td>\n",
       "      <td>21</td>\n",
       "    </tr>\n",
       "  </tbody>\n",
       "</table>\n",
       "</div>"
      ],
      "text/plain": [
       "    N   M\n",
       "0   6   4\n",
       "1   8   8\n",
       "2  10  15\n",
       "3  14  17\n",
       "4  17  21"
      ]
     },
     "execution_count": 87,
     "metadata": {},
     "output_type": "execute_result"
    }
   ],
   "source": [
    "Hospitaldata.head()"
   ]
  },
  {
   "cell_type": "code",
   "execution_count": 40,
   "metadata": {},
   "outputs": [],
   "source": [
    "#International Conference on Computational Science data: July 11, 2017\n",
    "IC17data = pd.read_csv(IC2S2_LOC)\n",
    "IC17seq = IC17data.values"
   ]
  },
  {
   "cell_type": "code",
   "execution_count": 84,
   "metadata": {},
   "outputs": [
    {
     "data": {
      "text/html": [
       "<div>\n",
       "<style scoped>\n",
       "    .dataframe tbody tr th:only-of-type {\n",
       "        vertical-align: middle;\n",
       "    }\n",
       "\n",
       "    .dataframe tbody tr th {\n",
       "        vertical-align: top;\n",
       "    }\n",
       "\n",
       "    .dataframe thead th {\n",
       "        text-align: right;\n",
       "    }\n",
       "</style>\n",
       "<table border=\"1\" class=\"dataframe\">\n",
       "  <thead>\n",
       "    <tr style=\"text-align: right;\">\n",
       "      <th></th>\n",
       "      <th>N</th>\n",
       "      <th>M</th>\n",
       "    </tr>\n",
       "  </thead>\n",
       "  <tbody>\n",
       "    <tr>\n",
       "      <td>0</td>\n",
       "      <td>26</td>\n",
       "      <td>45</td>\n",
       "    </tr>\n",
       "    <tr>\n",
       "      <td>1</td>\n",
       "      <td>27</td>\n",
       "      <td>34</td>\n",
       "    </tr>\n",
       "    <tr>\n",
       "      <td>2</td>\n",
       "      <td>31</td>\n",
       "      <td>44</td>\n",
       "    </tr>\n",
       "    <tr>\n",
       "      <td>3</td>\n",
       "      <td>41</td>\n",
       "      <td>67</td>\n",
       "    </tr>\n",
       "    <tr>\n",
       "      <td>4</td>\n",
       "      <td>47</td>\n",
       "      <td>95</td>\n",
       "    </tr>\n",
       "  </tbody>\n",
       "</table>\n",
       "</div>"
      ],
      "text/plain": [
       "    N   M\n",
       "0  26  45\n",
       "1  27  34\n",
       "2  31  44\n",
       "3  41  67\n",
       "4  47  95"
      ]
     },
     "execution_count": 84,
     "metadata": {},
     "output_type": "execute_result"
    }
   ],
   "source": [
    "IC17data.head()"
   ]
  },
  {
   "cell_type": "code",
   "execution_count": 42,
   "metadata": {},
   "outputs": [],
   "source": [
    "#Winter School data: December 1, 2016\n",
    "WS16data = pd.read_csv(WS16_LOC)\n",
    "WS16seq = WS16data.values"
   ]
  },
  {
   "cell_type": "code",
   "execution_count": 86,
   "metadata": {},
   "outputs": [
    {
     "data": {
      "text/html": [
       "<div>\n",
       "<style scoped>\n",
       "    .dataframe tbody tr th:only-of-type {\n",
       "        vertical-align: middle;\n",
       "    }\n",
       "\n",
       "    .dataframe tbody tr th {\n",
       "        vertical-align: top;\n",
       "    }\n",
       "\n",
       "    .dataframe thead th {\n",
       "        text-align: right;\n",
       "    }\n",
       "</style>\n",
       "<table border=\"1\" class=\"dataframe\">\n",
       "  <thead>\n",
       "    <tr style=\"text-align: right;\">\n",
       "      <th></th>\n",
       "      <th>N</th>\n",
       "      <th>M</th>\n",
       "    </tr>\n",
       "  </thead>\n",
       "  <tbody>\n",
       "    <tr>\n",
       "      <td>0</td>\n",
       "      <td>39</td>\n",
       "      <td>92</td>\n",
       "    </tr>\n",
       "    <tr>\n",
       "      <td>1</td>\n",
       "      <td>41</td>\n",
       "      <td>68</td>\n",
       "    </tr>\n",
       "    <tr>\n",
       "      <td>2</td>\n",
       "      <td>24</td>\n",
       "      <td>22</td>\n",
       "    </tr>\n",
       "    <tr>\n",
       "      <td>3</td>\n",
       "      <td>27</td>\n",
       "      <td>23</td>\n",
       "    </tr>\n",
       "    <tr>\n",
       "      <td>4</td>\n",
       "      <td>32</td>\n",
       "      <td>27</td>\n",
       "    </tr>\n",
       "  </tbody>\n",
       "</table>\n",
       "</div>"
      ],
      "text/plain": [
       "    N   M\n",
       "0  39  92\n",
       "1  41  68\n",
       "2  24  22\n",
       "3  27  23\n",
       "4  32  27"
      ]
     },
     "execution_count": 86,
     "metadata": {},
     "output_type": "execute_result"
    }
   ],
   "source": [
    "WS16data.head()"
   ]
  },
  {
   "cell_type": "markdown",
   "metadata": {},
   "source": [
    "## Load Parameter combinations & Likelihood Fns used to obatin the estimates"
   ]
  },
  {
   "cell_type": "code",
   "execution_count": 7,
   "metadata": {},
   "outputs": [],
   "source": [
    "#1 User imports the Dictionary of parameter combinations. Format - ID: (kappa, Np)\n",
    "parcombs = pd.read_csv(PARCOMBS_LOC)\n",
    "parcombs_dict = parcombs.set_index(\"id\").T.to_dict(\"list\")\n",
    "parcombs2 = {key:tuple(values) for key, values in parcombs_dict.items()}"
   ]
  },
  {
   "cell_type": "code",
   "execution_count": 8,
   "metadata": {},
   "outputs": [],
   "source": [
    "#2 User imports the likelihood functions\n",
    "Likelihoodfns = {}\n",
    "for combs in parcombs2:\n",
    "    df = pd.read_pickle(LKFNS_LOC+combs)\n",
    "    Likelihoodfns[combs] = df[[\"N\",\"M\",\"prob\"]].values\n",
    "\n"
   ]
  },
  {
   "cell_type": "markdown",
   "metadata": {},
   "source": [
    "# Implement the maximum-likelihood estimation"
   ]
  },
  {
   "cell_type": "markdown",
   "metadata": {},
   "source": [
    "### Maximum-likelihood estimation function"
   ]
  },
  {
   "cell_type": "code",
   "execution_count": 43,
   "metadata": {},
   "outputs": [],
   "source": [
    "class MLestimation:\n",
    "    # Input: Sequence of triplets (i.e., NM) consisting of time (t), total active nodes (N) and total edges (M).\n",
    "    def __init__(self, NM):\n",
    "        self.NM = NM\n",
    "        self.PARAMS = parcombs2\n",
    "        self.LKFNS  = Likelihoodfns\n",
    "    \n",
    "    @staticmethod\n",
    "    @njit(nopython=True)  \n",
    "    def prob_func(A,E,likelihood):\n",
    "        probindex = np.where((likelihood[0:,0]==A) & (likelihood[0:,1]==E))\n",
    "        if probindex[0].size!=0:\n",
    "            probability = likelihood[probindex][0,-1]\n",
    "        return probability\n",
    "    \n",
    "    def MLE(self):\n",
    "        \"\"\"\n",
    "        Input.\n",
    "\n",
    "        NMseq: Sequence of triplets consisting of time (t), total active nodes (N) and total edges (M).\n",
    "\n",
    "        Output. \n",
    "        Estimates of overall act and pop size: kappa and Np. Type: (pandas.DataFrame)\n",
    "        \"\"\"\n",
    "        \n",
    "        knp_ests = []\n",
    "        for elem in self.NM:\n",
    "            N,M = elem\n",
    "            prob_NM = []\n",
    "            combid = []\n",
    "            for fid,LF in self.LKFNS.items():\n",
    "                prob_NM.append(self.prob_func(N,M,LF))\n",
    "                combid.append(fid)\n",
    "            estparam_index = np.argmax(np.asarray(prob_NM))\n",
    "            estparams_id = combid[estparam_index]\n",
    "            knp_ests.append( estparams_id)\n",
    "            \n",
    "        estimates = pd.DataFrame({\"params\":knp_ests})\n",
    "        kappavalues, npvalues = self.estimators(estimates)\n",
    "        estimates[\"kappa\"] = kappavalues\n",
    "        estimates[\"np\"] = npvalues\n",
    "        return estimates\n",
    "\n",
    "    @staticmethod\n",
    "    def estimators(estimates):\n",
    "        PARAMS = parcombs2\n",
    "        \"\"\"\n",
    "        Input: Helper that takes sequences of IDs for (kappa, Np) combinations which have been\n",
    "        identified as estimators by the MLE instance above.\n",
    "\n",
    "        Output: DataFrame of estimates kappa_hat and Np_hat given a time window t\n",
    "\n",
    "        The function matches the ids of the parameter combination (i.e, PARAMS) with the ML\n",
    "        estimators (kappa_hat and Np_hat).\n",
    "        \"\"\"\n",
    "        kappa_seq = []\n",
    "        np_seq = []\n",
    "        for combs in estimates[\"params\"]:\n",
    "            kappa,np = PARAMS[combs]\n",
    "            kappa_seq.append(kappa)\n",
    "            np_seq.append(np)\n",
    "        return kappa_seq,np_seq\n",
    " \n",
    "    "
   ]
  },
  {
   "cell_type": "markdown",
   "metadata": {},
   "source": [
    "# Result: Estimated activity and population size for the datasets"
   ]
  },
  {
   "cell_type": "markdown",
   "metadata": {},
   "source": [
    "### Hospital"
   ]
  },
  {
   "cell_type": "code",
   "execution_count": 10,
   "metadata": {},
   "outputs": [],
   "source": [
    "Hospitaldailyestimates = MLestimation(Hospitalseq).MLE()"
   ]
  },
  {
   "cell_type": "code",
   "execution_count": 79,
   "metadata": {},
   "outputs": [
    {
     "data": {
      "text/html": [
       "<div>\n",
       "<style scoped>\n",
       "    .dataframe tbody tr th:only-of-type {\n",
       "        vertical-align: middle;\n",
       "    }\n",
       "\n",
       "    .dataframe tbody tr th {\n",
       "        vertical-align: top;\n",
       "    }\n",
       "\n",
       "    .dataframe thead th {\n",
       "        text-align: right;\n",
       "    }\n",
       "</style>\n",
       "<table border=\"1\" class=\"dataframe\">\n",
       "  <thead>\n",
       "    <tr style=\"text-align: right;\">\n",
       "      <th></th>\n",
       "      <th>params</th>\n",
       "      <th>kappa</th>\n",
       "      <th>np</th>\n",
       "    </tr>\n",
       "  </thead>\n",
       "  <tbody>\n",
       "    <tr>\n",
       "      <td>0</td>\n",
       "      <td>p2072</td>\n",
       "      <td>0.225</td>\n",
       "      <td>13.0</td>\n",
       "    </tr>\n",
       "    <tr>\n",
       "      <td>1</td>\n",
       "      <td>p6878</td>\n",
       "      <td>0.750</td>\n",
       "      <td>10.0</td>\n",
       "    </tr>\n",
       "    <tr>\n",
       "      <td>2</td>\n",
       "      <td>p12375</td>\n",
       "      <td>1.350</td>\n",
       "      <td>11.0</td>\n",
       "    </tr>\n",
       "    <tr>\n",
       "      <td>3</td>\n",
       "      <td>p5283</td>\n",
       "      <td>0.575</td>\n",
       "      <td>18.0</td>\n",
       "    </tr>\n",
       "    <tr>\n",
       "      <td>4</td>\n",
       "      <td>p3683</td>\n",
       "      <td>0.400</td>\n",
       "      <td>21.0</td>\n",
       "    </tr>\n",
       "  </tbody>\n",
       "</table>\n",
       "</div>"
      ],
      "text/plain": [
       "   params  kappa    np\n",
       "0   p2072  0.225  13.0\n",
       "1   p6878  0.750  10.0\n",
       "2  p12375  1.350  11.0\n",
       "3   p5283  0.575  18.0\n",
       "4   p3683  0.400  21.0"
      ]
     },
     "execution_count": 79,
     "metadata": {},
     "output_type": "execute_result"
    }
   ],
   "source": [
    "Hospitaldailyestimates.head()"
   ]
  },
  {
   "cell_type": "markdown",
   "metadata": {},
   "source": [
    "### IC2S2-17"
   ]
  },
  {
   "cell_type": "code",
   "execution_count": 64,
   "metadata": {},
   "outputs": [],
   "source": [
    "IC2S2dailyestimates = MLestimation(IC17seq).MLE()"
   ]
  },
  {
   "cell_type": "code",
   "execution_count": 80,
   "metadata": {},
   "outputs": [
    {
     "data": {
      "text/html": [
       "<div>\n",
       "<style scoped>\n",
       "    .dataframe tbody tr th:only-of-type {\n",
       "        vertical-align: middle;\n",
       "    }\n",
       "\n",
       "    .dataframe tbody tr th {\n",
       "        vertical-align: top;\n",
       "    }\n",
       "\n",
       "    .dataframe thead th {\n",
       "        text-align: right;\n",
       "    }\n",
       "</style>\n",
       "<table border=\"1\" class=\"dataframe\">\n",
       "  <thead>\n",
       "    <tr style=\"text-align: right;\">\n",
       "      <th></th>\n",
       "      <th>params</th>\n",
       "      <th>kappa</th>\n",
       "      <th>np</th>\n",
       "    </tr>\n",
       "  </thead>\n",
       "  <tbody>\n",
       "    <tr>\n",
       "      <td>0</td>\n",
       "      <td>p3921</td>\n",
       "      <td>0.425</td>\n",
       "      <td>30.0</td>\n",
       "    </tr>\n",
       "    <tr>\n",
       "      <td>1</td>\n",
       "      <td>p2323</td>\n",
       "      <td>0.250</td>\n",
       "      <td>35.0</td>\n",
       "    </tr>\n",
       "    <tr>\n",
       "      <td>2</td>\n",
       "      <td>p2326</td>\n",
       "      <td>0.250</td>\n",
       "      <td>38.0</td>\n",
       "    </tr>\n",
       "    <tr>\n",
       "      <td>3</td>\n",
       "      <td>p2337</td>\n",
       "      <td>0.250</td>\n",
       "      <td>49.0</td>\n",
       "    </tr>\n",
       "    <tr>\n",
       "      <td>4</td>\n",
       "      <td>p2572</td>\n",
       "      <td>0.275</td>\n",
       "      <td>55.0</td>\n",
       "    </tr>\n",
       "  </tbody>\n",
       "</table>\n",
       "</div>"
      ],
      "text/plain": [
       "  params  kappa    np\n",
       "0  p3921  0.425  30.0\n",
       "1  p2323  0.250  35.0\n",
       "2  p2326  0.250  38.0\n",
       "3  p2337  0.250  49.0\n",
       "4  p2572  0.275  55.0"
      ]
     },
     "execution_count": 80,
     "metadata": {},
     "output_type": "execute_result"
    }
   ],
   "source": [
    "IC2S2dailyestimates.head()"
   ]
  },
  {
   "cell_type": "markdown",
   "metadata": {},
   "source": [
    "### WS-16"
   ]
  },
  {
   "cell_type": "code",
   "execution_count": 65,
   "metadata": {},
   "outputs": [],
   "source": [
    "WSdailyestimates = MLestimation(WS16seq).MLE()"
   ]
  },
  {
   "cell_type": "code",
   "execution_count": 81,
   "metadata": {},
   "outputs": [
    {
     "data": {
      "text/html": [
       "<div>\n",
       "<style scoped>\n",
       "    .dataframe tbody tr th:only-of-type {\n",
       "        vertical-align: middle;\n",
       "    }\n",
       "\n",
       "    .dataframe tbody tr th {\n",
       "        vertical-align: top;\n",
       "    }\n",
       "\n",
       "    .dataframe thead th {\n",
       "        text-align: right;\n",
       "    }\n",
       "</style>\n",
       "<table border=\"1\" class=\"dataframe\">\n",
       "  <thead>\n",
       "    <tr style=\"text-align: right;\">\n",
       "      <th></th>\n",
       "      <th>params</th>\n",
       "      <th>kappa</th>\n",
       "      <th>np</th>\n",
       "    </tr>\n",
       "  </thead>\n",
       "  <tbody>\n",
       "    <tr>\n",
       "      <td>0</td>\n",
       "      <td>p3934</td>\n",
       "      <td>0.425</td>\n",
       "      <td>43.0</td>\n",
       "    </tr>\n",
       "    <tr>\n",
       "      <td>1</td>\n",
       "      <td>p2337</td>\n",
       "      <td>0.250</td>\n",
       "      <td>49.0</td>\n",
       "    </tr>\n",
       "    <tr>\n",
       "      <td>2</td>\n",
       "      <td>p955</td>\n",
       "      <td>0.100</td>\n",
       "      <td>41.0</td>\n",
       "    </tr>\n",
       "    <tr>\n",
       "      <td>3</td>\n",
       "      <td>p958</td>\n",
       "      <td>0.100</td>\n",
       "      <td>44.0</td>\n",
       "    </tr>\n",
       "    <tr>\n",
       "      <td>4</td>\n",
       "      <td>p738</td>\n",
       "      <td>0.075</td>\n",
       "      <td>53.0</td>\n",
       "    </tr>\n",
       "  </tbody>\n",
       "</table>\n",
       "</div>"
      ],
      "text/plain": [
       "  params  kappa    np\n",
       "0  p3934  0.425  43.0\n",
       "1  p2337  0.250  49.0\n",
       "2   p955  0.100  41.0\n",
       "3   p958  0.100  44.0\n",
       "4   p738  0.075  53.0"
      ]
     },
     "execution_count": 81,
     "metadata": {},
     "output_type": "execute_result"
    }
   ],
   "source": [
    "WSdailyestimates.head()"
   ]
  },
  {
   "cell_type": "markdown",
   "metadata": {},
   "source": [
    "# Plot figures for estimates"
   ]
  },
  {
   "cell_type": "code",
   "execution_count": 14,
   "metadata": {},
   "outputs": [],
   "source": [
    "import matplotlib.pyplot as plt\n",
    "import matplotlib.dates as mdates\n",
    "from matplotlib.ticker import (MultipleLocator, FormatStrFormatter,\n",
    "                               AutoMinorLocator)"
   ]
  },
  {
   "cell_type": "markdown",
   "metadata": {},
   "source": [
    "### Estimated $\\kappa$"
   ]
  },
  {
   "cell_type": "code",
   "execution_count": 82,
   "metadata": {},
   "outputs": [
    {
     "data": {
      "image/png": "[encoded data removed]",
      "text/plain": [
       "<Figure size 1224x288 with 3 Axes>"
      ]
     },
     "metadata": {
      "needs_background": "light"
     },
     "output_type": "display_data"
    }
   ],
   "source": [
    "fig,(ax1,ax3,ax4) = plt.subplots(1,3,figsize = (17,4))\n",
    "ax1.set_ylim(0,4)\n",
    "ax3.set_ylim(0,0.75)\n",
    "ax3.set_yticks(np.arange(0,0.8,0.25))\n",
    "ax4.set_ylim(0,1.2)\n",
    "ax4.set_yticks(np.arange(0,1.5,0.3))\n",
    "\n",
    "ax1.set_xlim(0,Hospitaldailyestimates.index[-1])\n",
    "ax3.set_xlim(0,IC2S2dailyestimates.index[-1])\n",
    "ax4.set_xlim(0,WSdailyestimates.index[-1])\n",
    "\n",
    "ax1.set_xlabel(\"Snapshot ID\",fontsize=18)\n",
    "ax1.set_ylabel(\"$\\widehat{{\\kappa}}_t$\",fontsize=18)\n",
    "\n",
    "#PLOT ESTIMATES OF KAPPA\n",
    "ax1.plot(Hospitaldailyestimates.index,Hospitaldailyestimates[\"kappa\"],\"k-\")\n",
    "ax3.plot(IC2S2dailyestimates.index,IC2S2dailyestimates[\"kappa\"],\"k-\")\n",
    "ax4.plot(WSdailyestimates.index,WSdailyestimates[\"kappa\"],\"k-\")\n",
    "\n",
    "#_______plot format_______________________________\n",
    "ax1.spines['right'].set_visible(False)\n",
    "ax1.spines['top'].set_visible(False)\n",
    "\n",
    "ax3.spines['right'].set_visible(False)\n",
    "ax3.spines['top'].set_visible(False)\n",
    "\n",
    "ax4.spines['right'].set_visible(False)\n",
    "ax4.spines['top'].set_visible(False)\n",
    "\n",
    "#___________________________________________________\n",
    "plt.rcParams['axes.facecolor'] = 'white'\n",
    "plt.rcParams['axes.edgecolor'] = 'k'\n",
    "plt.rcParams[\"axes.linewidth\"] = 1.5\n",
    "plt.rcParams[\"font.family\"] = \"Times New Roman\"\n",
    "plt.rc('xtick',labelsize=17)\n",
    "plt.rc('ytick',labelsize=17)"
   ]
  },
  {
   "cell_type": "markdown",
   "metadata": {},
   "source": [
    "### Estimated population size $N_{\\mathrm{p},t}$"
   ]
  },
  {
   "cell_type": "code",
   "execution_count": 83,
   "metadata": {},
   "outputs": [
    {
     "data": {
      "image/png": "[encoded data removed]",
      "text/plain": [
       "<Figure size 1224x288 with 3 Axes>"
      ]
     },
     "metadata": {
      "needs_background": "light"
     },
     "output_type": "display_data"
    }
   ],
   "source": [
    "fig,((ax1,ax3,ax4)) = plt.subplots(1,3,figsize = (17,4))\n",
    "ax1.set_ylim(0,40)\n",
    "ax1.set_yticks(np.arange(0,50,10))\n",
    "ax3.set_ylim(0,250)\n",
    "ax3.set_yticks(np.arange(0,300,50))\n",
    "ax4.set_ylim(0,160)\n",
    "ax4.set_yticks(np.arange(0,200,40))\n",
    "\n",
    "\n",
    "ax1.set_xlim(0,Hospitaldailyestimates.index[-1])\n",
    "ax3.set_xlim(0,IC2S2dailyestimates.index[-1])\n",
    "ax4.set_xlim(0,WSdailyestimates.index[-1])\n",
    "\n",
    "ax1.set_xlabel(\"Snapshot ID\",fontsize=18)\n",
    "ax1.set_ylabel(\"$\\widehat{{N}}_{\\mathrm{p},t}$\",fontsize=18)\n",
    "\n",
    "#PLOT ESTIMATES OF POP.SIZE\n",
    "ax1.plot(Hospitaldailyestimates.index,Hospitaldailyestimates[\"np\"],\"k-\")\n",
    "ax3.plot(IC2S2dailyestimates.index,IC2S2dailyestimates[\"np\"],\"k-\")\n",
    "ax4.plot(WSdailyestimates.index,WSdailyestimates[\"np\"],\"k-\")\n",
    "\n",
    "#_______plot format_______________________________\n",
    "ax1.spines['right'].set_visible(False)\n",
    "ax1.spines['top'].set_visible(False)\n",
    "\n",
    "ax3.spines['right'].set_visible(False)\n",
    "ax3.spines['top'].set_visible(False)\n",
    "\n",
    "ax4.spines['right'].set_visible(False)\n",
    "ax4.spines['top'].set_visible(False)"
   ]
  },
  {
   "cell_type": "code",
   "execution_count": null,
   "metadata": {},
   "outputs": [],
   "source": []
  }
 ],
 "metadata": {
  "kernelspec": {
   "display_name": "Python 3",
   "language": "python",
   "name": "python3"
  },
  "language_info": {
   "codemirror_mode": {
    "name": "ipython",
    "version": 3
   },
   "file_extension": ".py",
   "mimetype": "text/x-python",
   "name": "python",
   "nbconvert_exporter": "python",
   "pygments_lexer": "ipython3",
   "version": "3.7.4"
  }
 },
 "nbformat": 4,
 "nbformat_minor": 2
}
