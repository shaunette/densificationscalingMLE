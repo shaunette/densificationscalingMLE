{
 "cells": [
  {
   "cell_type": "code",
   "execution_count": 1,
   "metadata": {},
   "outputs": [],
   "source": [
    "import pandas as pd\n",
    "import numpy as np\n",
    "import time\n",
    "import datetime\n",
    "from datetime import timedelta\n",
    "import itertools\n",
    "import calendar\n",
    "import random\n",
    "import pickle\n",
    "import numba\n",
    "from numba import njit"
   ]
  },
  {
   "cell_type": "markdown",
   "metadata": {},
   "source": [
    "# Output Locations:"
   ]
  },
  {
   "cell_type": "markdown",
   "metadata": {},
   "source": [
    "###### Storage location for statistics from generated random networks"
   ]
  },
  {
   "cell_type": "code",
   "execution_count": 2,
   "metadata": {},
   "outputs": [],
   "source": [
    "RANDSTATS_LOC = \"/Volumes/G-DRIVE/codetest/statsrandomnets_exprob/\""
   ]
  },
  {
   "cell_type": "markdown",
   "metadata": {},
   "source": [
    "###### Storage location for ML functions"
   ]
  },
  {
   "cell_type": "code",
   "execution_count": 3,
   "metadata": {},
   "outputs": [],
   "source": [
    "MLF_LOC = \"/Volumes/G-DRIVE/codetest/likelihoodfns_exprob/\""
   ]
  },
  {
   "cell_type": "markdown",
   "metadata": {},
   "source": [
    "# Name the combinations of kappa and Np"
   ]
  },
  {
   "cell_type": "markdown",
   "metadata": {},
   "source": [
    "**Note that in the paper, we use:**\n",
    "1. The ranges for overall activity, $\\kappa$ and population size $N_\\mathrm{p}$:\n",
    "    - $\\kappa$ = $[0,4]$ _incremented by 0.025_\n",
    "    - $N_\\mathrm{p}$ = $[2,230]$ _incremented by 1_\n",
    "2. All combinations of the parameters are in the dictionary **param_combs_dict**\n",
    "3. Generating the likelihood functions given these ranges will take considerable amount of time. Hence, for demonstration, we we use a smaller range of values for both parameters."
   ]
  },
  {
   "cell_type": "code",
   "execution_count": 4,
   "metadata": {},
   "outputs": [],
   "source": [
    "kappas = np.arange(0.1,0.2,0.025)\n",
    "Nps = np.arange(5,10,1)\n",
    "\n",
    "#The parameter combinations are specific to the range of kappas and Nps, hence user can update as needed.\n",
    "param_combs = [] \n",
    "for k in kappas:\n",
    "    for pop in Nps:\n",
    "        param_combs.append((k,pop))\n",
    "        \n",
    "#each parameter combination is named and used as dictionary keys.\n",
    "param_keys = [\"p\"+str(i) for i in range(len(param_combs)+1)]\n",
    "\n",
    "param_combs_dict = dict(zip(param_keys,param_combs))"
   ]
  },
  {
   "cell_type": "markdown",
   "metadata": {},
   "source": [
    "# Two-part function for generating the synthetic networks given combination of $\\kappa$ and $N_\\mathrm{p}$"
   ]
  },
  {
   "cell_type": "markdown",
   "metadata": {},
   "source": [
    "### Part 1:\n",
    "###### _probs_ function outputs:\n",
    "    - Adjmat: (i.e., adjacency matrix) initialize adj mat with the total number of nodes in the system = Np\n",
    "    - upper_tridex: (i.e., upper triangle) since the network is undirected, we focus on the upper triangle\n",
    "    - probmatrix: the computed probability of a connection between i and j\n",
    "    - comp_probab: (i.e.,comparison prob. matrix) randomly drawn value to compare the prob. (of a connection) value "
   ]
  },
  {
   "cell_type": "code",
   "execution_count": 5,
   "metadata": {},
   "outputs": [],
   "source": [
    "@njit\n",
    "def probs(k,Np):\n",
    "    \"\"\"\n",
    "    Inputs:\n",
    "    Np: Network population size\n",
    "    k: For kappa which is overall activity level\n",
    "    -------------------------\n",
    "    Outputs:\n",
    "    Adjmat:initialized Np x Np adjacency matrix\n",
    "    upper_tridex: upper triangle of the adjacency matrix \n",
    "    probmatrix: probability matrix with each entry rep. the computed prob. of two nodes i and j connecting\n",
    "    comp_probab: randomly drawn values against which, the respective entries of \"probmatrix\" are compared in function\n",
    "    'populate_uptri'. \n",
    "    \n",
    "    Probability Equation: p_ij = 1-e^(-k*a_i*a_j); hence \"actmat\" corresponds to the matrix obtained by a_i*a_j.\n",
    "    This probability equation can be changed to any other equation of choice.\n",
    "    \"\"\"\n",
    "\n",
    "    Adjmat = np.zeros((Np, Np)) #initialize adjacency matrix\n",
    "    upper_tridex = np.triu_indices(Np,1) #index for the edges in the upper tri one diag above main\n",
    "    triup_size = upper_tridex[0].size    #num elems in this upper_tridex1\n",
    "    \n",
    "    nodeact = np.array([np.random.random() for i in range(Np)]) #assign activity level from uniform dist [0,1]\n",
    "    actmat = np.outer(nodeact,nodeact)                          #activity matrix for aiaj\n",
    "    np.fill_diagonal(actmat,0)\n",
    "    #The proability equation. UPDATE AS DESIRED \n",
    "    probmatrix = 1-np.exp((actmat*-k))                       \n",
    "    comp_probab = np.random.rand(triup_size)\n",
    "    \n",
    "    return Adjmat,upper_tridex,probmatrix,comp_probab"
   ]
  },
  {
   "cell_type": "markdown",
   "metadata": {},
   "source": [
    "### Part 2:\n",
    "###### _populate_uptri_ function output:\n",
    "    - popuptriangle: the upper triangle of Adjmat\n",
    "From this upper triangle, we compute the number of edges (M) and number of active nodes (N). "
   ]
  },
  {
   "cell_type": "code",
   "execution_count": 6,
   "metadata": {},
   "outputs": [],
   "source": [
    "@njit\n",
    "def populate_uptri(Adjmat):\n",
    "    \"\"\"\n",
    "    Takes, as input, the final adjacency matrix (i.e., edges id by 1, 0 otherwise) and outputs the upper triangle. \n",
    "    -------------------------\n",
    "    Inputs:\n",
    "    Adjmat: initialized Np x Np adjacency matrix\n",
    "    -------------------------\n",
    "    Outputs:\n",
    "    popuptriangle: the upper triangle of Adjmat\n",
    "    \"\"\"\n",
    "    Adjmat = Adjmat + Adjmat.T - np.diag(np.diag(Adjmat))                   \n",
    "    popuptriangle = np.where(np.triu(Adjmat,1)>0) \n",
    "    return popuptriangle\n",
    "    "
   ]
  },
  {
   "cell_type": "markdown",
   "metadata": {},
   "source": [
    "## Compute the statistics (total active nodes N and total edges M) of each synthetic network given a parameter combination\n",
    "- Here, total reps = 10,000 therefore each parameter combination in _param_combs_dict_ has 10,000 synthetic networks each with an N and M."
   ]
  },
  {
   "cell_type": "code",
   "execution_count": 7,
   "metadata": {},
   "outputs": [
    {
     "name": "stdout",
     "output_type": "stream",
     "text": [
      "10.0 % completed\n",
      "20.0 % completed\n",
      "30.0 % completed\n",
      "40.0 % completed\n",
      "50.0 % completed\n",
      "60.0 % completed\n",
      "70.0 % completed\n",
      "80.0 % completed\n",
      "90.0 % completed\n",
      "100.0 % completed\n"
     ]
    }
   ],
   "source": [
    "count = 0 #To track progress\n",
    "reps = 10000 # number of generated networks per parameter combination\n",
    "for combids,parvals in param_combs_dict.items():\n",
    "    count+=1\n",
    "    Nt_Mt = {}\n",
    "    for s in range(reps):\n",
    "        Adj,upper_tridex1,probmat,comp_prob = probs(parvals[0],parvals[1])\n",
    "\n",
    "        triup_edges = np.where(probmat[upper_tridex1]>=comp_prob,1,0) #compared calc prob (probmat) vs. rand val (comp_prob)\n",
    "\n",
    "        Adj[upper_tridex1] = triup_edges                             # where edge exists 1, 0 otherwise\n",
    "        pop_triup = populate_uptri(Adj)\n",
    "        Ncount = np.unique(np.array(list(itertools.chain.from_iterable(pop_triup)))).size\n",
    "        Mcount = len(list(zip(list(pop_triup[0]),list(pop_triup[1]))))\n",
    "        Nt_Mt[s] = {\"N\":Ncount,\"M\":Mcount}\n",
    "    params_df = pd.DataFrame.from_dict(Nt_Mt,orient = \"index\")\n",
    "    params_df[\"combids\"] = [combids]*params_df.shape[0]\n",
    "    params_df.to_pickle(RANDSTATS_LOC+\"param_df\"+combids)\n",
    "    #print progress:\n",
    "    if (count%round(len(param_combs_dict)/10)==0)&(count>0): print(round(count/len(param_combs_dict)*100,0), \"% completed\")\n",
    "    \n",
    "    "
   ]
  },
  {
   "cell_type": "markdown",
   "metadata": {},
   "source": [
    "## Obtaining the Likelihood functions"
   ]
  },
  {
   "cell_type": "markdown",
   "metadata": {},
   "source": [
    "1. **_Graphcomb_**: The statistics i.e. total edges M and total nodes N) for each of the 10,000 networks generated for a combinations of the parameters. Format: pandas.Dataframe\n",
    "\n",
    "2. **_Likefn_df_**: The likelihood function for each parameter combination. Format: pandas.Dataframe\n"
   ]
  },
  {
   "cell_type": "code",
   "execution_count": 8,
   "metadata": {},
   "outputs": [],
   "source": [
    "for combids,parvals in param_combs_dict.items():\n",
    "    #____Statistics for each of the 10,000 nets for a parameter combination\n",
    "    Graphcomb = pd.read_pickle(RANDSTATS_LOC+\"param_df\"+combids)\n",
    "    Graphcomb.reset_index(drop = False, inplace = True)\n",
    "    Graphcomb.rename(columns = {\"index\":\"runs\"},inplace = True)\n",
    "    \n",
    "    #____Joint probability distribution:\n",
    "    Likefn_df = Graphcomb.groupby([\"N\",\"M\"],as_index = False)[\"runs\"].count()\n",
    "    Likefn_df.rename(columns = {\"runs\":\"freq\"},inplace = True)\n",
    "    Likefn_df[\"prob\"] = Likefn_df[\"freq\"]/Likefn_df[\"freq\"].sum()\n",
    "    #__Save the output for this combination\n",
    "    Likefn_df.to_pickle(MLF_LOC+\"Likefn\"+combids)"
   ]
  },
  {
   "cell_type": "markdown",
   "metadata": {},
   "source": [
    "## Sample output:"
   ]
  },
  {
   "cell_type": "code",
   "execution_count": 9,
   "metadata": {},
   "outputs": [],
   "source": [
    "lkdict = {}\n",
    "for combids,parvals in param_combs_dict.items():\n",
    "    #iterate over each combination id and call the saved likelihood function\n",
    "    df = pd.read_pickle(MLF_LOC+\"Likefn\"+combids)\n",
    "    lkdict[combids] = df"
   ]
  },
  {
   "cell_type": "code",
   "execution_count": 108,
   "metadata": {},
   "outputs": [
    {
     "data": {
      "text/html": [
       "<div>\n",
       "<style scoped>\n",
       "    .dataframe tbody tr th:only-of-type {\n",
       "        vertical-align: middle;\n",
       "    }\n",
       "\n",
       "    .dataframe tbody tr th {\n",
       "        vertical-align: top;\n",
       "    }\n",
       "\n",
       "    .dataframe thead th {\n",
       "        text-align: right;\n",
       "    }\n",
       "</style>\n",
       "<table border=\"1\" class=\"dataframe\">\n",
       "  <thead>\n",
       "    <tr style=\"text-align: right;\">\n",
       "      <th></th>\n",
       "      <th>N</th>\n",
       "      <th>M</th>\n",
       "      <th>freq</th>\n",
       "      <th>prob</th>\n",
       "    </tr>\n",
       "  </thead>\n",
       "  <tbody>\n",
       "    <tr>\n",
       "      <td>0</td>\n",
       "      <td>198</td>\n",
       "      <td>902</td>\n",
       "      <td>1</td>\n",
       "      <td>0.0001</td>\n",
       "    </tr>\n",
       "    <tr>\n",
       "      <td>1</td>\n",
       "      <td>199</td>\n",
       "      <td>965</td>\n",
       "      <td>1</td>\n",
       "      <td>0.0001</td>\n",
       "    </tr>\n",
       "    <tr>\n",
       "      <td>2</td>\n",
       "      <td>200</td>\n",
       "      <td>831</td>\n",
       "      <td>1</td>\n",
       "      <td>0.0001</td>\n",
       "    </tr>\n",
       "    <tr>\n",
       "      <td>3</td>\n",
       "      <td>200</td>\n",
       "      <td>854</td>\n",
       "      <td>1</td>\n",
       "      <td>0.0001</td>\n",
       "    </tr>\n",
       "    <tr>\n",
       "      <td>4</td>\n",
       "      <td>200</td>\n",
       "      <td>914</td>\n",
       "      <td>1</td>\n",
       "      <td>0.0001</td>\n",
       "    </tr>\n",
       "    <tr>\n",
       "      <td>...</td>\n",
       "      <td>...</td>\n",
       "      <td>...</td>\n",
       "      <td>...</td>\n",
       "      <td>...</td>\n",
       "    </tr>\n",
       "    <tr>\n",
       "      <td>3953</td>\n",
       "      <td>224</td>\n",
       "      <td>1187</td>\n",
       "      <td>1</td>\n",
       "      <td>0.0001</td>\n",
       "    </tr>\n",
       "    <tr>\n",
       "      <td>3954</td>\n",
       "      <td>224</td>\n",
       "      <td>1232</td>\n",
       "      <td>1</td>\n",
       "      <td>0.0001</td>\n",
       "    </tr>\n",
       "    <tr>\n",
       "      <td>3955</td>\n",
       "      <td>224</td>\n",
       "      <td>1269</td>\n",
       "      <td>1</td>\n",
       "      <td>0.0001</td>\n",
       "    </tr>\n",
       "    <tr>\n",
       "      <td>3956</td>\n",
       "      <td>224</td>\n",
       "      <td>1271</td>\n",
       "      <td>1</td>\n",
       "      <td>0.0001</td>\n",
       "    </tr>\n",
       "    <tr>\n",
       "      <td>3957</td>\n",
       "      <td>225</td>\n",
       "      <td>1220</td>\n",
       "      <td>1</td>\n",
       "      <td>0.0001</td>\n",
       "    </tr>\n",
       "  </tbody>\n",
       "</table>\n",
       "<p>3958 rows × 4 columns</p>\n",
       "</div>"
      ],
      "text/plain": [
       "        N     M  freq    prob\n",
       "0     198   902     1  0.0001\n",
       "1     199   965     1  0.0001\n",
       "2     200   831     1  0.0001\n",
       "3     200   854     1  0.0001\n",
       "4     200   914     1  0.0001\n",
       "...   ...   ...   ...     ...\n",
       "3953  224  1187     1  0.0001\n",
       "3954  224  1232     1  0.0001\n",
       "3955  224  1269     1  0.0001\n",
       "3956  224  1271     1  0.0001\n",
       "3957  225  1220     1  0.0001\n",
       "\n",
       "[3958 rows x 4 columns]"
      ]
     },
     "execution_count": 108,
     "metadata": {},
     "output_type": "execute_result"
    }
   ],
   "source": [
    "#######display the likelihood function for parameter combination \"p15\".\n",
    "lkdict[\"p15\"]"
   ]
  },
  {
   "cell_type": "code",
   "execution_count": 22,
   "metadata": {},
   "outputs": [
    {
     "name": "stdout",
     "output_type": "stream",
     "text": [
      "Parameter combination is:  (0.175, 5)\n"
     ]
    }
   ],
   "source": [
    "print(\"Parameter combination is: \", param_combs_dict[\"p15\"])"
   ]
  }
 ],
 "metadata": {
  "kernelspec": {
   "display_name": "Python 3",
   "language": "python",
   "name": "python3"
  },
  "language_info": {
   "codemirror_mode": {
    "name": "ipython",
    "version": 3
   },
   "file_extension": ".py",
   "mimetype": "text/x-python",
   "name": "python",
   "nbconvert_exporter": "python",
   "pygments_lexer": "ipython3",
   "version": "3.7.4"
  }
 },
 "nbformat": 4,
 "nbformat_minor": 2
}
