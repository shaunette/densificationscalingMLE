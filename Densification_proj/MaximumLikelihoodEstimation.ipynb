{
 "cells": [
  {
   "cell_type": "code",
   "execution_count": 1,
   "metadata": {},
   "outputs": [],
   "source": [
    "import pandas as pd\n",
    "import numpy as np\n",
    "from numba import njit"
   ]
  },
  {
   "cell_type": "markdown",
   "metadata": {},
   "source": [
    "## Maximum-likelihood estimation"
   ]
  },
  {
   "cell_type": "code",
   "execution_count": 2,
   "metadata": {},
   "outputs": [
    {
     "name": "stderr",
     "output_type": "stream",
     "text": [
      "/opt/anaconda3/lib/python3.7/site-packages/numba/core/decorators.py:255: RuntimeWarning: nopython is set for njit and is ignored\n",
      "  warnings.warn('nopython is set for njit and is ignored', RuntimeWarning)\n"
     ]
    }
   ],
   "source": [
    "class MLestimation:\n",
    "    # Input: Sequence of triplets (i.e., NM) consisting of time (t), total active nodes (N) and total edges (M).\n",
    "    def __init__(self, NM):\n",
    "        self.NM = NM\n",
    "        self.PARAMS = parcombs2\n",
    "        self.LKFNS  = Likelihoodfns\n",
    "    \n",
    "    @staticmethod\n",
    "    @njit(nopython=True)  \n",
    "    def prob_func(A,E,likelihood):\n",
    "        probindex = np.where((likelihood[0:,0]==A) & (likelihood[0:,1]==E))\n",
    "        if probindex[0].size!=0:\n",
    "            probability = likelihood[probindex][0,-1]\n",
    "        return probability\n",
    "    \n",
    "    def MLE(self):\n",
    "        \"\"\"\n",
    "        Input.\n",
    "\n",
    "        NMseq: Sequence of triplets consisting of time (t), total active nodes (N) and total edges (M).\n",
    "\n",
    "        Output. \n",
    "        Estimates of overall act and pop size: kappa and Np. Type: (pandas.DataFrame)\n",
    "        \"\"\"\n",
    "        \n",
    "        knp_ests = []\n",
    "        for elem in self.NM:\n",
    "            N,M = elem\n",
    "            prob_NM = []\n",
    "            combid = []\n",
    "            for fid,LF in self.LKFNS.items():\n",
    "                prob_NM.append(self.prob_func(N,M,LF))\n",
    "                combid.append(fid)\n",
    "            estparam_index = np.argmax(np.asarray(prob_NM))\n",
    "            estparams_id = combid[estparam_index]\n",
    "            knp_ests.append( estparams_id)\n",
    "            \n",
    "        estimates = pd.DataFrame({\"params\":knp_ests})\n",
    "        kappavalues, npvalues = self.estimators(estimates)\n",
    "        estimates[\"kappa\"] = kappavalues\n",
    "        estimates[\"np\"] = npvalues\n",
    "        return estimates\n",
    "\n",
    "    @staticmethod\n",
    "    def estimators(estimates):\n",
    "        PARAMS = parcombs2\n",
    "        \"\"\"\n",
    "        Input: Helper that takes sequences of IDs for (kappa, Np) combinations which have been\n",
    "        identified as estimators by the MLE instance above.\n",
    "\n",
    "        Output: DataFrame of estimates kappa_hat and Np_hat given a time window t\n",
    "\n",
    "        The function matches the ids of the parameter combination (i.e, PARAMS) with the ML\n",
    "        estimators (kappa_hat and Np_hat).\n",
    "        \"\"\"\n",
    "        kappa_seq = []\n",
    "        np_seq = []\n",
    "        for combs in estimates[\"params\"]:\n",
    "            kappa,np = PARAMS[combs]\n",
    "            kappa_seq.append(kappa)\n",
    "            np_seq.append(np)\n",
    "        return kappa_seq,np_seq\n",
    " \n",
    "    "
   ]
  },
  {
   "cell_type": "code",
   "execution_count": null,
   "metadata": {},
   "outputs": [],
   "source": []
  }
 ],
 "metadata": {
  "kernelspec": {
   "display_name": "Python 3",
   "language": "python",
   "name": "python3"
  },
  "language_info": {
   "codemirror_mode": {
    "name": "ipython",
    "version": 3
   },
   "file_extension": ".py",
   "mimetype": "text/x-python",
   "name": "python",
   "nbconvert_exporter": "python",
   "pygments_lexer": "ipython3",
   "version": "3.7.4"
  }
 },
 "nbformat": 4,
 "nbformat_minor": 2
}
