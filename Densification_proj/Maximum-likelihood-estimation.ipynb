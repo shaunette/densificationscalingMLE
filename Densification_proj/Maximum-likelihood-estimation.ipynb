{
 "cells": [
  {
   "cell_type": "code",
   "execution_count": 1,
   "metadata": {},
   "outputs": [],
   "source": [
    "import pandas as pd\n",
    "import numpy as np\n",
    "from numba import njit\n",
    "from prob_func import *\n",
    "from estimators import *"
   ]
  },
  {
   "cell_type": "markdown",
   "metadata": {},
   "source": [
    "# Maximum-likelihood estimation"
   ]
  },
  {
   "cell_type": "code",
   "execution_count": 8,
   "metadata": {},
   "outputs": [],
   "source": [
    "def MLEstimation(NMseq,likelihood_funcs,params):\n",
    "    \"\"\"\n",
    "    Input.\n",
    "    \n",
    "    1.NMseq: Sequence of triplets consisting of time (t), total active nodes (N) and total edges (M).\n",
    "    2.likelihood_funcs: Sequence of joint prob. dists. Dict type i.e., parameter combination id: joint prob dist\n",
    "    3.params: Sequence of parameter combinations. Dict type i.e., parameter id: (kappa, Np)\n",
    "    \n",
    "    Output. \n",
    "    estimates: Estimates of overall activity and population size. Type: (pandas.DataFrame)\n",
    "    \"\"\"\n",
    "    knp_ests = []\n",
    "    timeseq = []\n",
    "    for elem in NMseq:\n",
    "        t,N,M = elem\n",
    "        prob_NM = []\n",
    "        combid = []\n",
    "        for fid,LF in likelihood_funcs.items():\n",
    "            prob_NM.append(prob_func(N,M,LF))\n",
    "            combid.append(fid)\n",
    "        estparam_index = np.argmax(np.asarray(prob_NM))\n",
    "        estparams_id = combid[estparam_index]\n",
    "        knp_ests.append( estparams_id)\n",
    "        timeseq.append(t)\n",
    "        MLEresults = dict(zip(timeseq,knp_ests))\n",
    "    #\n",
    "    estimates = pd.DataFrame.from_dict(MLEresults,orient = \"index\")\n",
    "    estimates.reset_index(drop = False, inplace = True)\n",
    "    estimates.rename(columns = {\"index\":\"t\",0:\"params\"}, inplace = True)\n",
    "    kappavalues, npvalues = estimators(estimates,params)\n",
    "    estimates[\"kappa\"] = kappavalues\n",
    "    estimates[\"np\"] = npvalues\n",
    "    return estimates"
   ]
  }
 ],
 "metadata": {
  "kernelspec": {
   "display_name": "Python 3",
   "language": "python",
   "name": "python3"
  },
  "language_info": {
   "codemirror_mode": {
    "name": "ipython",
    "version": 3
   },
   "file_extension": ".py",
   "mimetype": "text/x-python",
   "name": "python",
   "nbconvert_exporter": "python",
   "pygments_lexer": "ipython3",
   "version": "3.7.4"
  }
 },
 "nbformat": 4,
 "nbformat_minor": 2
}
